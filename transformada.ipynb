{
 "cells": [
  {
   "cell_type": "code",
   "execution_count": 1,
   "metadata": {},
   "outputs": [],
   "source": [
    "# Creacion del codigo de trnasformada de Fourier"
   ]
  },
  {
   "cell_type": "code",
   "execution_count": null,
   "metadata": {},
   "outputs": [],
   "source": [
    "import matplotlib.pyplot as plt\n",
    "import numpy as np\n",
    "\n"
   ]
  },
  {
   "cell_type": "code",
   "execution_count": 15,
   "metadata": {},
   "outputs": [],
   "source": [
    "# A continuacion calcularemos la transformada de fourier para una funcion x(n)\n"
   ]
  },
  {
   "cell_type": "code",
   "execution_count": 43,
   "metadata": {},
   "outputs": [
    {
     "ename": "IndentationError",
     "evalue": "expected an indented block (<ipython-input-43-995e8679ba5b>, line 18)",
     "output_type": "error",
     "traceback": [
      "\u001b[1;36m  File \u001b[1;32m\"<ipython-input-43-995e8679ba5b>\"\u001b[1;36m, line \u001b[1;32m18\u001b[0m\n\u001b[1;33m    c=c+x(n)*(cos(2*pi*n*k/N)+j*sin(2*pi*n*k/N))\u001b[0m\n\u001b[1;37m    ^\u001b[0m\n\u001b[1;31mIndentationError\u001b[0m\u001b[1;31m:\u001b[0m expected an indented block\n"
     ]
    }
   ],
   "source": [
    "\n",
    "t = np.arange(0,10,Ts)        \n",
    "x=x(t)\n",
    "N=len(t);\n",
    "#### Transformada de Fourier teórica X(w) de la función x(t)\n",
    "#----------\n",
    "N=len(x);\n",
    "for K in range(N):\n",
    " c=0 \n",
    " for n in range(N):       \n",
    " c=c+x(n)*(cos(2*pi*n*k/N)+j*sin(2*pi*n*k/N))\n",
    " end\n",
    " XF(k)=c        #este nos dara la trasformada de fourier de cualquier funcion\n",
    "end\n",
    "k=np.arange(0,10,Ts)  \n",
    "F=(k-1)/(N*Ts)\n",
    "\n",
    "#---------\n",
    "plt.subplot(3,1,1)\n",
    "plt.plot(t,x)\n",
    "plt.xlabel('x')\n",
    "plt.ylabel('y')\n",
    "plt.title('sin trnasformar')\n",
    "#####-----------\n",
    "plt.subplot(3,1,3)\n",
    "plt.plot(F,abs(XF))\n",
    "plt.ylabel('intercepto')\n",
    "plt.xlabel('valores')\n",
    "plt.title('Ya transformado')\n",
    "plt.show()"
   ]
  },
  {
   "cell_type": "code",
   "execution_count": null,
   "metadata": {},
   "outputs": [],
   "source": []
  }
 ],
 "metadata": {
  "kernelspec": {
   "display_name": "Python 3",
   "language": "python",
   "name": "python3"
  },
  "language_info": {
   "codemirror_mode": {
    "name": "ipython",
    "version": 3
   },
   "file_extension": ".py",
   "mimetype": "text/x-python",
   "name": "python",
   "nbconvert_exporter": "python",
   "pygments_lexer": "ipython3",
   "version": "3.6.5"
  }
 },
 "nbformat": 4,
 "nbformat_minor": 2
}
